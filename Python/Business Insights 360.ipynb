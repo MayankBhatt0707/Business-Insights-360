{
 "cells": [
  {
   "cell_type": "markdown",
   "id": "61197a25",
   "metadata": {},
   "source": [
    "# Business Insights 360"
   ]
  },
  {
   "cell_type": "markdown",
   "id": "e2557d09",
   "metadata": {},
   "source": [
    "### Importing Requeired Librarires"
   ]
  },
  {
   "cell_type": "code",
   "execution_count": 1,
   "id": "931a2e6b",
   "metadata": {},
   "outputs": [],
   "source": [
    "import pandas as pd\n",
    "pd.set_option(\"display.max_rows\", None)\n",
    "pd.set_option(\"display.max_columns\", None)\n",
    "from matplotlib import pyplot as plt\n",
    "import seaborn as sns\n",
    "import pymysql\n",
    "import warnings \n",
    "warnings.filterwarnings(\"ignore\")"
   ]
  },
  {
   "cell_type": "markdown",
   "id": "0ebb94eb",
   "metadata": {},
   "source": [
    "### Connecting to MySql DataBase"
   ]
  },
  {
   "cell_type": "code",
   "execution_count": 2,
   "id": "9fac4577",
   "metadata": {},
   "outputs": [],
   "source": [
    "df1 = pymysql.connect(user = \"root\", host = \"localhost\", password = \"123456\", database = \"gdb041\")\n",
    "df2 = pymysql.connect(user = \"root\", host = \"localhost\", password = \"123456\", database = \"gdb056\")"
   ]
  },
  {
   "cell_type": "code",
   "execution_count": 3,
   "id": "0448d863",
   "metadata": {},
   "outputs": [
    {
     "data": {
      "text/html": [
       "<div>\n",
       "<style scoped>\n",
       "    .dataframe tbody tr th:only-of-type {\n",
       "        vertical-align: middle;\n",
       "    }\n",
       "\n",
       "    .dataframe tbody tr th {\n",
       "        vertical-align: top;\n",
       "    }\n",
       "\n",
       "    .dataframe thead th {\n",
       "        text-align: right;\n",
       "    }\n",
       "</style>\n",
       "<table border=\"1\" class=\"dataframe\">\n",
       "  <thead>\n",
       "    <tr style=\"text-align: right;\">\n",
       "      <th></th>\n",
       "      <th>Tables_in_gdb041</th>\n",
       "    </tr>\n",
       "  </thead>\n",
       "  <tbody>\n",
       "    <tr>\n",
       "      <th>0</th>\n",
       "      <td>dim_customer</td>\n",
       "    </tr>\n",
       "    <tr>\n",
       "      <th>1</th>\n",
       "      <td>dim_market</td>\n",
       "    </tr>\n",
       "    <tr>\n",
       "      <th>2</th>\n",
       "      <td>dim_product</td>\n",
       "    </tr>\n",
       "    <tr>\n",
       "      <th>3</th>\n",
       "      <td>fact_forecast_monthly</td>\n",
       "    </tr>\n",
       "    <tr>\n",
       "      <th>4</th>\n",
       "      <td>fact_sales_monthly</td>\n",
       "    </tr>\n",
       "    <tr>\n",
       "      <th>5</th>\n",
       "      <td>forecasted_data</td>\n",
       "    </tr>\n",
       "  </tbody>\n",
       "</table>\n",
       "</div>"
      ],
      "text/plain": [
       "        Tables_in_gdb041\n",
       "0           dim_customer\n",
       "1             dim_market\n",
       "2            dim_product\n",
       "3  fact_forecast_monthly\n",
       "4     fact_sales_monthly\n",
       "5        forecasted_data"
      ]
     },
     "execution_count": 3,
     "metadata": {},
     "output_type": "execute_result"
    }
   ],
   "source": [
    "pd.read_sql_query(\"show tables\", df1)"
   ]
  },
  {
   "cell_type": "code",
   "execution_count": 4,
   "id": "592039b2",
   "metadata": {},
   "outputs": [
    {
     "data": {
      "text/html": [
       "<div>\n",
       "<style scoped>\n",
       "    .dataframe tbody tr th:only-of-type {\n",
       "        vertical-align: middle;\n",
       "    }\n",
       "\n",
       "    .dataframe tbody tr th {\n",
       "        vertical-align: top;\n",
       "    }\n",
       "\n",
       "    .dataframe thead th {\n",
       "        text-align: right;\n",
       "    }\n",
       "</style>\n",
       "<table border=\"1\" class=\"dataframe\">\n",
       "  <thead>\n",
       "    <tr style=\"text-align: right;\">\n",
       "      <th></th>\n",
       "      <th>Tables_in_gdb056</th>\n",
       "    </tr>\n",
       "  </thead>\n",
       "  <tbody>\n",
       "    <tr>\n",
       "      <th>0</th>\n",
       "      <td>freight_cost</td>\n",
       "    </tr>\n",
       "    <tr>\n",
       "      <th>1</th>\n",
       "      <td>gross_price</td>\n",
       "    </tr>\n",
       "    <tr>\n",
       "      <th>2</th>\n",
       "      <td>manufacturing_cost</td>\n",
       "    </tr>\n",
       "    <tr>\n",
       "      <th>3</th>\n",
       "      <td>post_invoice_deductions</td>\n",
       "    </tr>\n",
       "    <tr>\n",
       "      <th>4</th>\n",
       "      <td>pre_invoice_deductions</td>\n",
       "    </tr>\n",
       "  </tbody>\n",
       "</table>\n",
       "</div>"
      ],
      "text/plain": [
       "          Tables_in_gdb056\n",
       "0             freight_cost\n",
       "1              gross_price\n",
       "2       manufacturing_cost\n",
       "3  post_invoice_deductions\n",
       "4   pre_invoice_deductions"
      ]
     },
     "execution_count": 4,
     "metadata": {},
     "output_type": "execute_result"
    }
   ],
   "source": [
    "pd.read_sql_query(\"show tables\", df2)"
   ]
  },
  {
   "cell_type": "markdown",
   "id": "e8e8b2f8",
   "metadata": {},
   "source": [
    "### Extracting Tbales from DataBase"
   ]
  },
  {
   "cell_type": "code",
   "execution_count": 5,
   "id": "df7659b3",
   "metadata": {},
   "outputs": [],
   "source": [
    "dim_customer = pd.read_sql_query(\"select * from dim_customer\", df1)\n",
    "dim_market = pd.read_sql_query(\"select * from dim_market\", df1)\n",
    "dim_product = pd.read_sql_query(\"select * from dim_product\", df1)\n",
    "fact_forecast_monthly = pd.read_sql_query(\"select * from fact_forecast_monthly\", df1)\n",
    "fact_sales_monthly = pd.read_sql_query(\"select * from fact_sales_monthly\", df1)\n",
    "forecasted_data = pd.read_sql_query(\"select * from forecasted_data\", df1)"
   ]
  },
  {
   "cell_type": "code",
   "execution_count": 86,
   "id": "a05890e8",
   "metadata": {},
   "outputs": [],
   "source": [
    "freight_cost = pd.read_sql_query(\"select * from freight_cost\", df2)\n",
    "gross_price = pd.read_sql_query(\"select * from gross_price\", df2)\n",
    "manufacturing_cost = pd.read_sql_query(\"select * from manufacturing_cost\", df2)\n",
    "post_invoice_deductions = pd.read_sql_query(\"select * from post_invoice_deductions\", df2)\n",
    "pre_invoice_deductions = pd.read_sql_query(\"select * from pre_invoice_deductions\", df2)"
   ]
  },
  {
   "cell_type": "markdown",
   "id": "9da4f642",
   "metadata": {},
   "source": [
    "### Importing CSV Files"
   ]
  },
  {
   "cell_type": "code",
   "execution_count": 11,
   "id": "9295b8a2",
   "metadata": {},
   "outputs": [],
   "source": [
    "market_share = pd.read_excel(r\"C:\\Users\\m9wrc\\OneDrive\\Desktop\\New Begining\\Business Insights 360\\Data Dump\\marketshare-v2022.xlsx\")\n",
    "targets = pd.read_excel(r\"C:\\Users\\m9wrc\\OneDrive\\Desktop\\New Begining\\Business Insights 360\\Data Dump\\targets.xlsx\")"
   ]
  },
  {
   "cell_type": "markdown",
   "id": "328d8d03",
   "metadata": {},
   "source": [
    "### Defining Functions to Analyze Tables"
   ]
  },
  {
   "cell_type": "code",
   "execution_count": 78,
   "id": "76deb554",
   "metadata": {},
   "outputs": [],
   "source": [
    "def table_info(t):\n",
    "    print(f\"\\033[1mTable Shape : \\033[0m {t.shape}\")\n",
    "    print(f\"\\n\\033[1mStatistical Table Descripiton : \\033[0m \\n {t.describe()} \")\n",
    "    print(f\"\\n\\033[1mGeneral Table Descripiton : \\033[0m \\n {t.describe(include = 'object')} \")\n",
    "    print(f\"\\n\\033[1mCount of Null Values: \\033[0m\\n{t.isna().sum()}\")\n",
    "    print(\"\\n\")\n",
    "    for column in t.columns.unique():\n",
    "        print(f\"\\033[1mColumn Name: \\033[0m {column}  \\033[1mData Type : \\033[0m {t[column].dtype}\")"
   ]
  },
  {
   "cell_type": "code",
   "execution_count": 79,
   "id": "2d4c2cfb",
   "metadata": {
    "scrolled": false
   },
   "outputs": [
    {
     "name": "stdout",
     "output_type": "stream",
     "text": [
      "\u001b[1mTable Shape : \u001b[0m (209, 5)\n",
      "\n",
      "\u001b[1mStatistical Table Descripiton : \u001b[0m \n",
      "        customer market        platform   channel customer_code\n",
      "count       209    209             209       209           209\n",
      "unique       76     27               2         3           209\n",
      "top     Amazon   India  Brick & Mortar  Retailer      90002012\n",
      "freq         25     18             150       164             1 \n",
      "\n",
      "\u001b[1mGeneral Table Descripiton : \u001b[0m \n",
      "        customer market        platform   channel customer_code\n",
      "count       209    209             209       209           209\n",
      "unique       76     27               2         3           209\n",
      "top     Amazon   India  Brick & Mortar  Retailer      90002012\n",
      "freq         25     18             150       164             1 \n",
      "\n",
      "\u001b[1mCount of Null Values: \u001b[0m\n",
      "customer         0\n",
      "market           0\n",
      "platform         0\n",
      "channel          0\n",
      "customer_code    0\n",
      "dtype: int64\n",
      "\n",
      "\n",
      "\u001b[1mColumn Name: \u001b[0m customer  \u001b[1mData Type : \u001b[0m object\n",
      "\u001b[1mColumn Name: \u001b[0m market  \u001b[1mData Type : \u001b[0m object\n",
      "\u001b[1mColumn Name: \u001b[0m platform  \u001b[1mData Type : \u001b[0m object\n",
      "\u001b[1mColumn Name: \u001b[0m channel  \u001b[1mData Type : \u001b[0m object\n",
      "\u001b[1mColumn Name: \u001b[0m customer_code  \u001b[1mData Type : \u001b[0m object\n"
     ]
    }
   ],
   "source": [
    "table_info(dim_customer)"
   ]
  },
  {
   "cell_type": "code",
   "execution_count": 80,
   "id": "9e490241",
   "metadata": {},
   "outputs": [
    {
     "name": "stdout",
     "output_type": "stream",
     "text": [
      "\u001b[1mTable Shape : \u001b[0m (27, 3)\n",
      "\n",
      "\u001b[1mStatistical Table Descripiton : \u001b[0m \n",
      "        market sub_zone region\n",
      "count      27       27     27\n",
      "unique     27        7      4\n",
      "top     China      ROA     EU\n",
      "freq        1        7     11 \n",
      "\n",
      "\u001b[1mGeneral Table Descripiton : \u001b[0m \n",
      "        market sub_zone region\n",
      "count      27       27     27\n",
      "unique     27        7      4\n",
      "top     China      ROA     EU\n",
      "freq        1        7     11 \n",
      "\n",
      "\u001b[1mCount of Null Values: \u001b[0m\n",
      "market      0\n",
      "sub_zone    0\n",
      "region      0\n",
      "dtype: int64\n",
      "\n",
      "\n",
      "\u001b[1mColumn Name: \u001b[0m market  \u001b[1mData Type : \u001b[0m object\n",
      "\u001b[1mColumn Name: \u001b[0m sub_zone  \u001b[1mData Type : \u001b[0m object\n",
      "\u001b[1mColumn Name: \u001b[0m region  \u001b[1mData Type : \u001b[0m object\n"
     ]
    }
   ],
   "source": [
    "table_info(dim_market)"
   ]
  },
  {
   "cell_type": "code",
   "execution_count": 81,
   "id": "e869d821",
   "metadata": {},
   "outputs": [
    {
     "name": "stdout",
     "output_type": "stream",
     "text": [
      "\u001b[1mTable Shape : \u001b[0m (397, 6)\n",
      "\n",
      "\u001b[1mStatistical Table Descripiton : \u001b[0m \n",
      "        product_code division   segment         category   product variant\n",
      "count           397      397       397              397       397     397\n",
      "unique          397        3         6               14        73      27\n",
      "top     A0118150101    P & A  Notebook  Personal Laptop  AQ Elite  Plus 2\n",
      "freq              1      200       129               61         8      35 \n",
      "\n",
      "\u001b[1mGeneral Table Descripiton : \u001b[0m \n",
      "        product_code division   segment         category   product variant\n",
      "count           397      397       397              397       397     397\n",
      "unique          397        3         6               14        73      27\n",
      "top     A0118150101    P & A  Notebook  Personal Laptop  AQ Elite  Plus 2\n",
      "freq              1      200       129               61         8      35 \n",
      "\n",
      "\u001b[1mCount of Null Values: \u001b[0m\n",
      "product_code    0\n",
      "division        0\n",
      "segment         0\n",
      "category        0\n",
      "product         0\n",
      "variant         0\n",
      "dtype: int64\n",
      "\n",
      "\n",
      "\u001b[1mColumn Name: \u001b[0m product_code  \u001b[1mData Type : \u001b[0m object\n",
      "\u001b[1mColumn Name: \u001b[0m division  \u001b[1mData Type : \u001b[0m object\n",
      "\u001b[1mColumn Name: \u001b[0m segment  \u001b[1mData Type : \u001b[0m object\n",
      "\u001b[1mColumn Name: \u001b[0m category  \u001b[1mData Type : \u001b[0m object\n",
      "\u001b[1mColumn Name: \u001b[0m product  \u001b[1mData Type : \u001b[0m object\n",
      "\u001b[1mColumn Name: \u001b[0m variant  \u001b[1mData Type : \u001b[0m object\n"
     ]
    }
   ],
   "source": [
    "table_info(dim_product)"
   ]
  },
  {
   "cell_type": "code",
   "execution_count": 82,
   "id": "4b50a530",
   "metadata": {},
   "outputs": [
    {
     "name": "stdout",
     "output_type": "stream",
     "text": [
      "\u001b[1mTable Shape : \u001b[0m (1885941, 11)\n",
      "\n",
      "\u001b[1mStatistical Table Descripiton : \u001b[0m \n",
      "        forecast_quantity\n",
      "count       1.885941e+06\n",
      "mean        9.176067e+01\n",
      "std         2.088221e+02\n",
      "min         0.000000e+00\n",
      "25%         5.000000e+00\n",
      "50%         2.100000e+01\n",
      "75%         8.300000e+01\n",
      "max         7.554000e+03 \n",
      "\n",
      "\u001b[1mGeneral Table Descripiton : \u001b[0m \n",
      "        division         category product_code   product   market  \\\n",
      "count   1885941          1885941      1885941   1885941  1885941   \n",
      "unique        3               14          389        71       27   \n",
      "top       P & A  Personal Laptop  A2218150201  AQ Digit    India   \n",
      "freq    1033285           283938         7982     56068   186624   \n",
      "\n",
      "              platform   channel customer_code customer_name  \n",
      "count          1885941   1885941       1885941       1885941  \n",
      "unique               2         3           209            75  \n",
      "top     Brick & Mortar  Retailer      90002008        Amazon  \n",
      "freq           1351340   1469663         10402        260583   \n",
      "\n",
      "\u001b[1mCount of Null Values: \u001b[0m\n",
      "date                 0\n",
      "division             0\n",
      "category             0\n",
      "product_code         0\n",
      "product              0\n",
      "market               0\n",
      "platform             0\n",
      "channel              0\n",
      "customer_code        0\n",
      "customer_name        0\n",
      "forecast_quantity    0\n",
      "dtype: int64\n",
      "\n",
      "\n",
      "\u001b[1mColumn Name: \u001b[0m date  \u001b[1mData Type : \u001b[0m datetime64[ns]\n",
      "\u001b[1mColumn Name: \u001b[0m division  \u001b[1mData Type : \u001b[0m object\n",
      "\u001b[1mColumn Name: \u001b[0m category  \u001b[1mData Type : \u001b[0m object\n",
      "\u001b[1mColumn Name: \u001b[0m product_code  \u001b[1mData Type : \u001b[0m object\n",
      "\u001b[1mColumn Name: \u001b[0m product  \u001b[1mData Type : \u001b[0m object\n",
      "\u001b[1mColumn Name: \u001b[0m market  \u001b[1mData Type : \u001b[0m object\n",
      "\u001b[1mColumn Name: \u001b[0m platform  \u001b[1mData Type : \u001b[0m object\n",
      "\u001b[1mColumn Name: \u001b[0m channel  \u001b[1mData Type : \u001b[0m object\n",
      "\u001b[1mColumn Name: \u001b[0m customer_code  \u001b[1mData Type : \u001b[0m object\n",
      "\u001b[1mColumn Name: \u001b[0m customer_name  \u001b[1mData Type : \u001b[0m object\n",
      "\u001b[1mColumn Name: \u001b[0m forecast_quantity  \u001b[1mData Type : \u001b[0m int64\n"
     ]
    }
   ],
   "source": [
    "table_info(fact_forecast_monthly)"
   ]
  },
  {
   "cell_type": "code",
   "execution_count": 83,
   "id": "81b3813f",
   "metadata": {},
   "outputs": [
    {
     "name": "stdout",
     "output_type": "stream",
     "text": [
      "\u001b[1mTable Shape : \u001b[0m (1425706, 11)\n",
      "\n",
      "\u001b[1mStatistical Table Descripiton : \u001b[0m \n",
      "        sold_quantity\n",
      "count   1.425706e+06\n",
      "mean    8.788036e+01\n",
      "std     2.080257e+02\n",
      "min     0.000000e+00\n",
      "25%     4.000000e+00\n",
      "50%     1.700000e+01\n",
      "75%     7.700000e+01\n",
      "max     5.832000e+03 \n",
      "\n",
      "\u001b[1mGeneral Table Descripiton : \u001b[0m \n",
      "        division         category product_code   product   market  \\\n",
      "count   1425706          1425706      1425706   1425706  1425706   \n",
      "unique        3               14          389        71       27   \n",
      "top       P & A  Personal Laptop  A2118150103  AQ Digit    India   \n",
      "freq     802773           206710         6729     44641   147278   \n",
      "\n",
      "              platform   channel customer_code customer_name  \n",
      "count          1425706   1425706       1425706       1425706  \n",
      "unique               2         3           209            75  \n",
      "top     Brick & Mortar  Retailer      80007196        Amazon  \n",
      "freq           1015255   1106671          8295        199382   \n",
      "\n",
      "\u001b[1mCount of Null Values: \u001b[0m\n",
      "date             0\n",
      "division         0\n",
      "category         0\n",
      "product_code     0\n",
      "product          0\n",
      "market           0\n",
      "platform         0\n",
      "channel          0\n",
      "customer_code    0\n",
      "customer_name    0\n",
      "sold_quantity    0\n",
      "dtype: int64\n",
      "\n",
      "\n",
      "\u001b[1mColumn Name: \u001b[0m date  \u001b[1mData Type : \u001b[0m datetime64[ns]\n",
      "\u001b[1mColumn Name: \u001b[0m division  \u001b[1mData Type : \u001b[0m object\n",
      "\u001b[1mColumn Name: \u001b[0m category  \u001b[1mData Type : \u001b[0m object\n",
      "\u001b[1mColumn Name: \u001b[0m product_code  \u001b[1mData Type : \u001b[0m object\n",
      "\u001b[1mColumn Name: \u001b[0m product  \u001b[1mData Type : \u001b[0m object\n",
      "\u001b[1mColumn Name: \u001b[0m market  \u001b[1mData Type : \u001b[0m object\n",
      "\u001b[1mColumn Name: \u001b[0m platform  \u001b[1mData Type : \u001b[0m object\n",
      "\u001b[1mColumn Name: \u001b[0m channel  \u001b[1mData Type : \u001b[0m object\n",
      "\u001b[1mColumn Name: \u001b[0m customer_code  \u001b[1mData Type : \u001b[0m object\n",
      "\u001b[1mColumn Name: \u001b[0m customer_name  \u001b[1mData Type : \u001b[0m object\n",
      "\u001b[1mColumn Name: \u001b[0m sold_quantity  \u001b[1mData Type : \u001b[0m int64\n"
     ]
    }
   ],
   "source": [
    "table_info(fact_sales_monthly)"
   ]
  },
  {
   "cell_type": "code",
   "execution_count": 84,
   "id": "483f2649",
   "metadata": {},
   "outputs": [
    {
     "name": "stdout",
     "output_type": "stream",
     "text": [
      "\u001b[1mTable Shape : \u001b[0m (432623, 11)\n",
      "\n",
      "\u001b[1mStatistical Table Descripiton : \u001b[0m \n",
      "        forecast_quantity\n",
      "count      432623.000000\n",
      "mean          115.992615\n",
      "std           211.349072\n",
      "min             1.000000\n",
      "25%            13.000000\n",
      "50%            43.000000\n",
      "75%           112.000000\n",
      "max          3508.000000 \n",
      "\n",
      "\u001b[1mGeneral Table Descripiton : \u001b[0m \n",
      "        division         category product_code product  market        platform  \\\n",
      "count    432623           432623       432623  432623  432623          432623   \n",
      "unique        3               14          345      68      27               2   \n",
      "top       P & A  Personal Laptop  A6219160103  AQ F16   India  Brick & Mortar   \n",
      "freq     220704            71478         1254   10032   37260          310496   \n",
      "\n",
      "         channel customer_code customer_name  \n",
      "count     432623        432623        432623  \n",
      "unique         3           209            75  \n",
      "top     Retailer      70008169        Amazon  \n",
      "freq      339473          2070         60027   \n",
      "\n",
      "\u001b[1mCount of Null Values: \u001b[0m\n",
      "date                 0\n",
      "division             0\n",
      "category             0\n",
      "product_code         0\n",
      "product              0\n",
      "market               0\n",
      "platform             0\n",
      "channel              0\n",
      "customer_code        0\n",
      "customer_name        0\n",
      "forecast_quantity    0\n",
      "dtype: int64\n",
      "\n",
      "\n",
      "\u001b[1mColumn Name: \u001b[0m date  \u001b[1mData Type : \u001b[0m datetime64[ns]\n",
      "\u001b[1mColumn Name: \u001b[0m division  \u001b[1mData Type : \u001b[0m object\n",
      "\u001b[1mColumn Name: \u001b[0m category  \u001b[1mData Type : \u001b[0m object\n",
      "\u001b[1mColumn Name: \u001b[0m product_code  \u001b[1mData Type : \u001b[0m object\n",
      "\u001b[1mColumn Name: \u001b[0m product  \u001b[1mData Type : \u001b[0m object\n",
      "\u001b[1mColumn Name: \u001b[0m market  \u001b[1mData Type : \u001b[0m object\n",
      "\u001b[1mColumn Name: \u001b[0m platform  \u001b[1mData Type : \u001b[0m object\n",
      "\u001b[1mColumn Name: \u001b[0m channel  \u001b[1mData Type : \u001b[0m object\n",
      "\u001b[1mColumn Name: \u001b[0m customer_code  \u001b[1mData Type : \u001b[0m object\n",
      "\u001b[1mColumn Name: \u001b[0m customer_name  \u001b[1mData Type : \u001b[0m object\n",
      "\u001b[1mColumn Name: \u001b[0m forecast_quantity  \u001b[1mData Type : \u001b[0m int64\n"
     ]
    }
   ],
   "source": [
    "table_info(forecasted_data)"
   ]
  },
  {
   "cell_type": "code",
   "execution_count": 95,
   "id": "e4a665d0",
   "metadata": {},
   "outputs": [
    {
     "name": "stdout",
     "output_type": "stream",
     "text": [
      "\u001b[1mTable Shape : \u001b[0m (135, 4)\n",
      "\n",
      "\u001b[1mStatistical Table Descripiton : \u001b[0m \n",
      "        freight_pct  other_cost_pct\n",
      "count   135.000000      135.000000\n",
      "mean      0.025339        0.004155\n",
      "std       0.003678        0.001149\n",
      "min       0.018700        0.002200\n",
      "25%       0.021900        0.003250\n",
      "50%       0.025800        0.004300\n",
      "75%       0.028600        0.005200\n",
      "max       0.031200        0.006100 \n",
      "\n",
      "\u001b[1mGeneral Table Descripiton : \u001b[0m \n",
      "            market fiscal_year\n",
      "count         135         135\n",
      "unique         27           5\n",
      "top     Australia        2018\n",
      "freq            5          27 \n",
      "\n",
      "\u001b[1mCount of Null Values: \u001b[0m\n",
      "market            0\n",
      "fiscal_year       0\n",
      "freight_pct       0\n",
      "other_cost_pct    0\n",
      "dtype: int64\n",
      "\n",
      "\n",
      "\u001b[1mColumn Name: \u001b[0m market  \u001b[1mData Type : \u001b[0m object\n",
      "\u001b[1mColumn Name: \u001b[0m fiscal_year  \u001b[1mData Type : \u001b[0m object\n",
      "\u001b[1mColumn Name: \u001b[0m freight_pct  \u001b[1mData Type : \u001b[0m float64\n",
      "\u001b[1mColumn Name: \u001b[0m other_cost_pct  \u001b[1mData Type : \u001b[0m float64\n"
     ]
    }
   ],
   "source": [
    "table_info(freight_cost)"
   ]
  },
  {
   "cell_type": "code",
   "execution_count": 87,
   "id": "846e29aa",
   "metadata": {},
   "outputs": [
    {
     "name": "stdout",
     "output_type": "stream",
     "text": [
      "\u001b[1mTable Shape : \u001b[0m (1197, 3)\n",
      "\n",
      "\u001b[1mStatistical Table Descripiton : \u001b[0m \n",
      "        gross_price\n",
      "count  1197.000000\n",
      "mean    208.493264\n",
      "std     247.897982\n",
      "min       2.283100\n",
      "25%      17.699600\n",
      "50%      37.379600\n",
      "75%     411.309000\n",
      "max     890.136400 \n",
      "\n",
      "\u001b[1mGeneral Table Descripiton : \u001b[0m \n",
      "        product_code fiscal_year\n",
      "count          1197        1197\n",
      "unique          397           5\n",
      "top     A2918150105        2022\n",
      "freq              5         353 \n",
      "\n",
      "\u001b[1mCount of Null Values: \u001b[0m\n",
      "product_code    0\n",
      "fiscal_year     0\n",
      "gross_price     0\n",
      "dtype: int64\n",
      "\n",
      "\n",
      "\u001b[1mColumn Name: \u001b[0m product_code  \u001b[1mData Type : \u001b[0m object\n",
      "\u001b[1mColumn Name: \u001b[0m fiscal_year  \u001b[1mData Type : \u001b[0m object\n",
      "\u001b[1mColumn Name: \u001b[0m gross_price  \u001b[1mData Type : \u001b[0m float64\n"
     ]
    }
   ],
   "source": [
    "table_info(gross_price)"
   ]
  },
  {
   "cell_type": "code",
   "execution_count": 88,
   "id": "8d3c0d19",
   "metadata": {},
   "outputs": [
    {
     "name": "stdout",
     "output_type": "stream",
     "text": [
      "\u001b[1mTable Shape : \u001b[0m (1197, 3)\n",
      "\n",
      "\u001b[1mStatistical Table Descripiton : \u001b[0m \n",
      "        manufacturing_cost\n",
      "count         1197.000000\n",
      "mean            62.226726\n",
      "std             73.870377\n",
      "min              0.706400\n",
      "25%              5.339200\n",
      "50%             11.034500\n",
      "75%            121.587700\n",
      "max            263.420700 \n",
      "\n",
      "\u001b[1mGeneral Table Descripiton : \u001b[0m \n",
      "        product_code cost_year\n",
      "count          1197      1197\n",
      "unique          397         5\n",
      "top     A2918150105      2022\n",
      "freq              5       353 \n",
      "\n",
      "\u001b[1mCount of Null Values: \u001b[0m\n",
      "product_code          0\n",
      "cost_year             0\n",
      "manufacturing_cost    0\n",
      "dtype: int64\n",
      "\n",
      "\n",
      "\u001b[1mColumn Name: \u001b[0m product_code  \u001b[1mData Type : \u001b[0m object\n",
      "\u001b[1mColumn Name: \u001b[0m cost_year  \u001b[1mData Type : \u001b[0m object\n",
      "\u001b[1mColumn Name: \u001b[0m manufacturing_cost  \u001b[1mData Type : \u001b[0m float64\n"
     ]
    }
   ],
   "source": [
    "table_info(manufacturing_cost)"
   ]
  },
  {
   "cell_type": "code",
   "execution_count": 91,
   "id": "98e15ec4",
   "metadata": {},
   "outputs": [
    {
     "name": "stdout",
     "output_type": "stream",
     "text": [
      "\u001b[1mTable Shape : \u001b[0m (2063076, 5)\n",
      "\n",
      "\u001b[1mStatistical Table Descripiton : \u001b[0m \n",
      "        discounts_pct  other_deductions_pct\n",
      "count   2.063076e+06          2.063076e+06\n",
      "mean    2.150711e-01          1.241953e-01\n",
      "std     6.554602e-02          3.191252e-02\n",
      "min     0.000000e+00          0.000000e+00\n",
      "25%     1.599861e-01          9.814963e-02\n",
      "50%     2.191942e-01          1.224419e-01\n",
      "75%     2.660199e-01          1.481994e-01\n",
      "max     3.597894e-01          2.076699e-01 \n",
      "\n",
      "\u001b[1mGeneral Table Descripiton : \u001b[0m \n",
      "        customer_code product_code        date\n",
      "count        2063076      2063076     2063076\n",
      "unique           209          389          60\n",
      "top         70002017  A3019150205  2021-11-01\n",
      "freq           10638         8065       54165 \n",
      "\n",
      "\u001b[1mCount of Null Values: \u001b[0m\n",
      "customer_code           0\n",
      "product_code            0\n",
      "date                    0\n",
      "discounts_pct           0\n",
      "other_deductions_pct    0\n",
      "dtype: int64\n",
      "\n",
      "\n",
      "\u001b[1mColumn Name: \u001b[0m customer_code  \u001b[1mData Type : \u001b[0m object\n",
      "\u001b[1mColumn Name: \u001b[0m product_code  \u001b[1mData Type : \u001b[0m object\n",
      "\u001b[1mColumn Name: \u001b[0m date  \u001b[1mData Type : \u001b[0m object\n",
      "\u001b[1mColumn Name: \u001b[0m discounts_pct  \u001b[1mData Type : \u001b[0m float64\n",
      "\u001b[1mColumn Name: \u001b[0m other_deductions_pct  \u001b[1mData Type : \u001b[0m float64\n"
     ]
    }
   ],
   "source": [
    "table_info(post_invoice_deductions)"
   ]
  },
  {
   "cell_type": "code",
   "execution_count": 92,
   "id": "d722d4dc",
   "metadata": {},
   "outputs": [
    {
     "name": "stdout",
     "output_type": "stream",
     "text": [
      "\u001b[1mTable Shape : \u001b[0m (1045, 3)\n",
      "\n",
      "\u001b[1mStatistical Table Descripiton : \u001b[0m \n",
      "        pre_invoice_discount_pct\n",
      "count               1045.000000\n",
      "mean                   0.233806\n",
      "std                    0.058079\n",
      "min                    0.051016\n",
      "25%                    0.204847\n",
      "50%                    0.243927\n",
      "75%                    0.276677\n",
      "max                    0.309908 \n",
      "\n",
      "\u001b[1mGeneral Table Descripiton : \u001b[0m \n",
      "        customer_code fiscal_year\n",
      "count           1045        1045\n",
      "unique           209           5\n",
      "top         70002017        2018\n",
      "freq               5         209 \n",
      "\n",
      "\u001b[1mCount of Null Values: \u001b[0m\n",
      "customer_code               0\n",
      "fiscal_year                 0\n",
      "pre_invoice_discount_pct    0\n",
      "dtype: int64\n",
      "\n",
      "\n",
      "\u001b[1mColumn Name: \u001b[0m customer_code  \u001b[1mData Type : \u001b[0m object\n",
      "\u001b[1mColumn Name: \u001b[0m fiscal_year  \u001b[1mData Type : \u001b[0m object\n",
      "\u001b[1mColumn Name: \u001b[0m pre_invoice_discount_pct  \u001b[1mData Type : \u001b[0m float64\n"
     ]
    }
   ],
   "source": [
    "table_info(pre_invoice_deductions)"
   ]
  },
  {
   "cell_type": "code",
   "execution_count": 93,
   "id": "e7118061",
   "metadata": {},
   "outputs": [
    {
     "name": "stdout",
     "output_type": "stream",
     "text": [
      "\u001b[1mTable Shape : \u001b[0m (123, 10)\n",
      "\n",
      "\u001b[1mStatistical Table Descripiton : \u001b[0m \n",
      "            fy_desc  total_market_sales_$  atliq_sales_$  dale_sales_$  \\\n",
      "count   123.000000            123.000000     122.000000    123.000000   \n",
      "mean   2020.186992           3276.999107      74.583412    741.636673   \n",
      "std       1.381076           2593.518230     145.595826    569.339018   \n",
      "min    2018.000000            201.983600       0.000000     60.595080   \n",
      "25%    2019.000000           1429.008890       1.602205    312.400984   \n",
      "50%    2020.000000           2551.712000       9.590130    576.956380   \n",
      "75%    2021.000000           4213.551920      58.727955   1101.009983   \n",
      "max    2022.000000          13279.738080     661.698840   2786.290648   \n",
      "\n",
      "       innovo_sales_$  pacer_sales_$   bp_sales_$  others_sales_$  \n",
      "count      123.000000     123.000000   123.000000      123.000000  \n",
      "mean       329.318977     250.208959   255.005722     1626.851732  \n",
      "std        267.613740     203.526849   237.489942     1405.502231  \n",
      "min         36.962999      22.177799    29.117267       44.859213  \n",
      "25%        131.392459      93.975740    93.234972      647.505981  \n",
      "50%        264.769871     179.210987   179.707610     1285.766961  \n",
      "75%        437.050550     342.869330   356.347404     2007.245075  \n",
      "max       1399.009564     946.579730  1343.049181     7354.413253   \n",
      "\n",
      "\u001b[1mGeneral Table Descripiton : \u001b[0m \n",
      "        sub_zone         category\n",
      "count       105              123\n",
      "unique        6                4\n",
      "top          NE  Business Laptop\n",
      "freq         20               35 \n",
      "\n",
      "\u001b[1mCount of Null Values: \u001b[0m\n",
      "sub_zone                18\n",
      "category                 0\n",
      "fy_desc                  0\n",
      "total_market_sales_$     0\n",
      "atliq_sales_$            1\n",
      "dale_sales_$             0\n",
      "innovo_sales_$           0\n",
      "pacer_sales_$            0\n",
      "bp_sales_$               0\n",
      "others_sales_$           0\n",
      "dtype: int64\n",
      "\n",
      "\n",
      "\u001b[1mColumn Name: \u001b[0m sub_zone  \u001b[1mData Type : \u001b[0m object\n",
      "\u001b[1mColumn Name: \u001b[0m category  \u001b[1mData Type : \u001b[0m object\n",
      "\u001b[1mColumn Name: \u001b[0m fy_desc  \u001b[1mData Type : \u001b[0m int64\n",
      "\u001b[1mColumn Name: \u001b[0m total_market_sales_$  \u001b[1mData Type : \u001b[0m float64\n",
      "\u001b[1mColumn Name: \u001b[0m atliq_sales_$  \u001b[1mData Type : \u001b[0m float64\n",
      "\u001b[1mColumn Name: \u001b[0m dale_sales_$  \u001b[1mData Type : \u001b[0m float64\n",
      "\u001b[1mColumn Name: \u001b[0m innovo_sales_$  \u001b[1mData Type : \u001b[0m float64\n",
      "\u001b[1mColumn Name: \u001b[0m pacer_sales_$  \u001b[1mData Type : \u001b[0m float64\n",
      "\u001b[1mColumn Name: \u001b[0m bp_sales_$  \u001b[1mData Type : \u001b[0m float64\n",
      "\u001b[1mColumn Name: \u001b[0m others_sales_$  \u001b[1mData Type : \u001b[0m float64\n"
     ]
    }
   ],
   "source": [
    "table_info(market_share)"
   ]
  },
  {
   "cell_type": "code",
   "execution_count": 90,
   "id": "b8ca8f58",
   "metadata": {},
   "outputs": [
    {
     "name": "stdout",
     "output_type": "stream",
     "text": [
      "\u001b[1mTable Shape : \u001b[0m (321, 5)\n",
      "\n",
      "\u001b[1mStatistical Table Descripiton : \u001b[0m \n",
      "           ns_target     gm_target     np_target\n",
      "count  3.210000e+02  3.210000e+02  3.210000e+02\n",
      "mean   1.186010e+07  4.546772e+06 -1.683070e+06\n",
      "std    1.967876e+07  7.787172e+06  4.052688e+06\n",
      "min    9.758423e+04  2.899642e+04 -3.218070e+07\n",
      "25%    2.326166e+06  7.205783e+05 -1.172048e+06\n",
      "50%    5.618480e+06  1.873895e+06 -2.494218e+05\n",
      "75%    1.149938e+07  4.186339e+06  2.378267e+03\n",
      "max    1.369345e+08  5.083882e+07  9.470128e+05 \n",
      "\n",
      "\u001b[1mGeneral Table Descripiton : \u001b[0m \n",
      "            market\n",
      "count         321\n",
      "unique         27\n",
      "top     Australia\n",
      "freq           12 \n",
      "\n",
      "\u001b[1mCount of Null Values: \u001b[0m\n",
      "market       0\n",
      "month        0\n",
      "ns_target    0\n",
      "gm_target    0\n",
      "np_target    0\n",
      "dtype: int64\n",
      "\n",
      "\n",
      "\u001b[1mColumn Name: \u001b[0m market  \u001b[1mData Type : \u001b[0m object\n",
      "\u001b[1mColumn Name: \u001b[0m month  \u001b[1mData Type : \u001b[0m datetime64[ns]\n",
      "\u001b[1mColumn Name: \u001b[0m ns_target  \u001b[1mData Type : \u001b[0m float64\n",
      "\u001b[1mColumn Name: \u001b[0m gm_target  \u001b[1mData Type : \u001b[0m float64\n",
      "\u001b[1mColumn Name: \u001b[0m np_target  \u001b[1mData Type : \u001b[0m float64\n"
     ]
    }
   ],
   "source": [
    "table_info(targets)"
   ]
  },
  {
   "cell_type": "code",
   "execution_count": 96,
   "id": "a5fd43c4",
   "metadata": {},
   "outputs": [
    {
     "data": {
      "text/html": [
       "<div>\n",
       "<style scoped>\n",
       "    .dataframe tbody tr th:only-of-type {\n",
       "        vertical-align: middle;\n",
       "    }\n",
       "\n",
       "    .dataframe tbody tr th {\n",
       "        vertical-align: top;\n",
       "    }\n",
       "\n",
       "    .dataframe thead th {\n",
       "        text-align: right;\n",
       "    }\n",
       "</style>\n",
       "<table border=\"1\" class=\"dataframe\">\n",
       "  <thead>\n",
       "    <tr style=\"text-align: right;\">\n",
       "      <th></th>\n",
       "      <th>customer</th>\n",
       "      <th>market</th>\n",
       "      <th>platform</th>\n",
       "      <th>channel</th>\n",
       "      <th>customer_code</th>\n",
       "    </tr>\n",
       "  </thead>\n",
       "  <tbody>\n",
       "    <tr>\n",
       "      <th>0</th>\n",
       "      <td>Electricalsocity</td>\n",
       "      <td>India</td>\n",
       "      <td>Brick &amp; Mortar</td>\n",
       "      <td>Retailer</td>\n",
       "      <td>90002012</td>\n",
       "    </tr>\n",
       "    <tr>\n",
       "      <th>1</th>\n",
       "      <td>Electricalslytical</td>\n",
       "      <td>India</td>\n",
       "      <td>Brick &amp; Mortar</td>\n",
       "      <td>Retailer</td>\n",
       "      <td>90002013</td>\n",
       "    </tr>\n",
       "    <tr>\n",
       "      <th>2</th>\n",
       "      <td>Ebay</td>\n",
       "      <td>India</td>\n",
       "      <td>E-Commerce</td>\n",
       "      <td>Retailer</td>\n",
       "      <td>90002010</td>\n",
       "    </tr>\n",
       "    <tr>\n",
       "      <th>3</th>\n",
       "      <td>Atliq Exclusive</td>\n",
       "      <td>India</td>\n",
       "      <td>Brick &amp; Mortar</td>\n",
       "      <td>Retailer</td>\n",
       "      <td>90002011</td>\n",
       "    </tr>\n",
       "    <tr>\n",
       "      <th>4</th>\n",
       "      <td>Expression</td>\n",
       "      <td>India</td>\n",
       "      <td>Brick &amp; Mortar</td>\n",
       "      <td>Retailer</td>\n",
       "      <td>90002014</td>\n",
       "    </tr>\n",
       "  </tbody>\n",
       "</table>\n",
       "</div>"
      ],
      "text/plain": [
       "             customer market        platform   channel customer_code\n",
       "0    Electricalsocity  India  Brick & Mortar  Retailer      90002012\n",
       "1  Electricalslytical  India  Brick & Mortar  Retailer      90002013\n",
       "2                Ebay  India      E-Commerce  Retailer      90002010\n",
       "3     Atliq Exclusive  India  Brick & Mortar  Retailer      90002011\n",
       "4          Expression  India  Brick & Mortar  Retailer      90002014"
      ]
     },
     "execution_count": 96,
     "metadata": {},
     "output_type": "execute_result"
    }
   ],
   "source": [
    "dim_customer.head()"
   ]
  },
  {
   "cell_type": "code",
   "execution_count": 130,
   "id": "602af9f3",
   "metadata": {},
   "outputs": [],
   "source": [
    "def table_summary(t):\n",
    "    print(f\"\\033[1mTotal Unique Columns : \\033[0m {t.columns.nunique()}\\n\")\n",
    "    for column in t.columns.unique():\n",
    "        print(f\"\\033[1mTotal unique {column} : \\033[0m {t[column].nunique()}\")"
   ]
  },
  {
   "cell_type": "code",
   "execution_count": 131,
   "id": "287b55e7",
   "metadata": {},
   "outputs": [
    {
     "name": "stdout",
     "output_type": "stream",
     "text": [
      "\u001b[1mTotal Unique Columns : \u001b[0m 5\n",
      "\n",
      "\u001b[1mTotal unique customer : \u001b[0m 76\n",
      "\u001b[1mTotal unique market : \u001b[0m 27\n",
      "\u001b[1mTotal unique platform : \u001b[0m 2\n",
      "\u001b[1mTotal unique channel : \u001b[0m 3\n",
      "\u001b[1mTotal unique customer_code : \u001b[0m 209\n"
     ]
    }
   ],
   "source": [
    "table_summary(dim_customer)"
   ]
  },
  {
   "cell_type": "code",
   "execution_count": 132,
   "id": "1c71051f",
   "metadata": {},
   "outputs": [
    {
     "name": "stdout",
     "output_type": "stream",
     "text": [
      "\u001b[1mTotal Unique Columns : \u001b[0m 3\n",
      "\n",
      "\u001b[1mTotal unique market : \u001b[0m 27\n",
      "\u001b[1mTotal unique sub_zone : \u001b[0m 7\n",
      "\u001b[1mTotal unique region : \u001b[0m 4\n"
     ]
    }
   ],
   "source": [
    "table_summary(dim_market)"
   ]
  },
  {
   "cell_type": "code",
   "execution_count": 133,
   "id": "cc83a4b4",
   "metadata": {},
   "outputs": [
    {
     "name": "stdout",
     "output_type": "stream",
     "text": [
      "\u001b[1mTotal Unique Columns : \u001b[0m 6\n",
      "\n",
      "\u001b[1mTotal unique product_code : \u001b[0m 397\n",
      "\u001b[1mTotal unique division : \u001b[0m 3\n",
      "\u001b[1mTotal unique segment : \u001b[0m 6\n",
      "\u001b[1mTotal unique category : \u001b[0m 14\n",
      "\u001b[1mTotal unique product : \u001b[0m 73\n",
      "\u001b[1mTotal unique variant : \u001b[0m 27\n"
     ]
    }
   ],
   "source": [
    "table_summary(dim_product)"
   ]
  },
  {
   "cell_type": "code",
   "execution_count": null,
   "id": "b7bdcff3",
   "metadata": {},
   "outputs": [],
   "source": []
  },
  {
   "cell_type": "code",
   "execution_count": null,
   "id": "d1e38485",
   "metadata": {},
   "outputs": [],
   "source": []
  }
 ],
 "metadata": {
  "kernelspec": {
   "display_name": "Python 3 (ipykernel)",
   "language": "python",
   "name": "python3"
  },
  "language_info": {
   "codemirror_mode": {
    "name": "ipython",
    "version": 3
   },
   "file_extension": ".py",
   "mimetype": "text/x-python",
   "name": "python",
   "nbconvert_exporter": "python",
   "pygments_lexer": "ipython3",
   "version": "3.10.5"
  }
 },
 "nbformat": 4,
 "nbformat_minor": 5
}
