{
 "cells": [
  {
   "cell_type": "markdown",
   "id": "61197a25",
   "metadata": {},
   "source": [
    "# Business Insights 360"
   ]
  },
  {
   "cell_type": "markdown",
   "id": "e2557d09",
   "metadata": {},
   "source": [
    "### Importing Requeired Librarires"
   ]
  },
  {
   "cell_type": "code",
   "execution_count": 1,
   "id": "931a2e6b",
   "metadata": {},
   "outputs": [],
   "source": [
    "import pandas as pd\n",
    "pd.set_option(\"display.max_rows\", None)\n",
    "pd.set_option(\"display.max_columns\", None)\n",
    "from matplotlib import pyplot as plt\n",
    "import seaborn as sns\n",
    "import pymysql\n",
    "import warnings \n",
    "warnings.filterwarnings(\"ignore\")"
   ]
  },
  {
   "cell_type": "markdown",
   "id": "0ebb94eb",
   "metadata": {},
   "source": [
    "### Connecting to MySql DataFrames"
   ]
  },
  {
   "cell_type": "code",
   "execution_count": 2,
   "id": "9fac4577",
   "metadata": {},
   "outputs": [],
   "source": [
    "df1 = pymysql.connect(user = \"root\", host = \"localhost\", password = \"123456\", database = \"gdb041\")\n",
    "df2 = pymysql.connect(user = \"root\", host = \"localhost\", password = \"123456\", database = \"gdb056\")"
   ]
  },
  {
   "cell_type": "code",
   "execution_count": 3,
   "id": "0448d863",
   "metadata": {},
   "outputs": [
    {
     "data": {
      "text/html": [
       "<div>\n",
       "<style scoped>\n",
       "    .dataframe tbody tr th:only-of-type {\n",
       "        vertical-align: middle;\n",
       "    }\n",
       "\n",
       "    .dataframe tbody tr th {\n",
       "        vertical-align: top;\n",
       "    }\n",
       "\n",
       "    .dataframe thead th {\n",
       "        text-align: right;\n",
       "    }\n",
       "</style>\n",
       "<table border=\"1\" class=\"dataframe\">\n",
       "  <thead>\n",
       "    <tr style=\"text-align: right;\">\n",
       "      <th></th>\n",
       "      <th>Tables_in_gdb041</th>\n",
       "    </tr>\n",
       "  </thead>\n",
       "  <tbody>\n",
       "    <tr>\n",
       "      <th>0</th>\n",
       "      <td>dim_customer</td>\n",
       "    </tr>\n",
       "    <tr>\n",
       "      <th>1</th>\n",
       "      <td>dim_market</td>\n",
       "    </tr>\n",
       "    <tr>\n",
       "      <th>2</th>\n",
       "      <td>dim_product</td>\n",
       "    </tr>\n",
       "    <tr>\n",
       "      <th>3</th>\n",
       "      <td>fact_forecast_monthly</td>\n",
       "    </tr>\n",
       "    <tr>\n",
       "      <th>4</th>\n",
       "      <td>fact_sales_monthly</td>\n",
       "    </tr>\n",
       "    <tr>\n",
       "      <th>5</th>\n",
       "      <td>forecasted_data</td>\n",
       "    </tr>\n",
       "  </tbody>\n",
       "</table>\n",
       "</div>"
      ],
      "text/plain": [
       "        Tables_in_gdb041\n",
       "0           dim_customer\n",
       "1             dim_market\n",
       "2            dim_product\n",
       "3  fact_forecast_monthly\n",
       "4     fact_sales_monthly\n",
       "5        forecasted_data"
      ]
     },
     "execution_count": 3,
     "metadata": {},
     "output_type": "execute_result"
    }
   ],
   "source": [
    "pd.read_sql_query(\"show tables\", df1)"
   ]
  },
  {
   "cell_type": "code",
   "execution_count": 4,
   "id": "592039b2",
   "metadata": {},
   "outputs": [
    {
     "data": {
      "text/html": [
       "<div>\n",
       "<style scoped>\n",
       "    .dataframe tbody tr th:only-of-type {\n",
       "        vertical-align: middle;\n",
       "    }\n",
       "\n",
       "    .dataframe tbody tr th {\n",
       "        vertical-align: top;\n",
       "    }\n",
       "\n",
       "    .dataframe thead th {\n",
       "        text-align: right;\n",
       "    }\n",
       "</style>\n",
       "<table border=\"1\" class=\"dataframe\">\n",
       "  <thead>\n",
       "    <tr style=\"text-align: right;\">\n",
       "      <th></th>\n",
       "      <th>Tables_in_gdb056</th>\n",
       "    </tr>\n",
       "  </thead>\n",
       "  <tbody>\n",
       "    <tr>\n",
       "      <th>0</th>\n",
       "      <td>freight_cost</td>\n",
       "    </tr>\n",
       "    <tr>\n",
       "      <th>1</th>\n",
       "      <td>gross_price</td>\n",
       "    </tr>\n",
       "    <tr>\n",
       "      <th>2</th>\n",
       "      <td>manufacturing_cost</td>\n",
       "    </tr>\n",
       "    <tr>\n",
       "      <th>3</th>\n",
       "      <td>post_invoice_deductions</td>\n",
       "    </tr>\n",
       "    <tr>\n",
       "      <th>4</th>\n",
       "      <td>pre_invoice_deductions</td>\n",
       "    </tr>\n",
       "  </tbody>\n",
       "</table>\n",
       "</div>"
      ],
      "text/plain": [
       "          Tables_in_gdb056\n",
       "0             freight_cost\n",
       "1              gross_price\n",
       "2       manufacturing_cost\n",
       "3  post_invoice_deductions\n",
       "4   pre_invoice_deductions"
      ]
     },
     "execution_count": 4,
     "metadata": {},
     "output_type": "execute_result"
    }
   ],
   "source": [
    "pd.read_sql_query(\"show tables\", df2)"
   ]
  },
  {
   "cell_type": "markdown",
   "id": "e8e8b2f8",
   "metadata": {},
   "source": [
    "### Extracting Tbales from DataFrames"
   ]
  },
  {
   "cell_type": "code",
   "execution_count": 5,
   "id": "df7659b3",
   "metadata": {},
   "outputs": [],
   "source": [
    "dim_customer = pd.read_sql_query(\"select * from dim_customer\", df1)\n",
    "dim_market = pd.read_sql_query(\"select * from dim_market\", df1)\n",
    "dim_product = pd.read_sql_query(\"select * from dim_product\", df1)\n",
    "fact_forecast_monthly = pd.read_sql_query(\"select * from fact_forecast_monthly\", df1)\n",
    "fact_sales_monthly = pd.read_sql_query(\"select * from fact_sales_monthly\", df1)\n",
    "forecasted_data = pd.read_sql_query(\"select * from forecasted_data\", df1)"
   ]
  },
  {
   "cell_type": "code",
   "execution_count": 7,
   "id": "a05890e8",
   "metadata": {},
   "outputs": [],
   "source": [
    "freight_cost = pd.read_sql_query(\"select * from freight_cost\", df2)\n",
    "gross_price = pd.read_sql_query(\"select * from gross_price\", df2)\n",
    "manufacturing_cost = pd.read_sql_query(\"select * from manufacturing_cost\", df2)\n",
    "post_invoice_deductions = pd.read_sql_query(\"select * from post_invoice_deductions\", df2)\n",
    "pre_invoice_deductions = pd.read_sql_query(\"select * from pre_invoice_deductions\", df2)"
   ]
  },
  {
   "cell_type": "code",
   "execution_count": null,
   "id": "49997d82",
   "metadata": {},
   "outputs": [],
   "source": []
  }
 ],
 "metadata": {
  "kernelspec": {
   "display_name": "Python 3 (ipykernel)",
   "language": "python",
   "name": "python3"
  },
  "language_info": {
   "codemirror_mode": {
    "name": "ipython",
    "version": 3
   },
   "file_extension": ".py",
   "mimetype": "text/x-python",
   "name": "python",
   "nbconvert_exporter": "python",
   "pygments_lexer": "ipython3",
   "version": "3.10.5"
  }
 },
 "nbformat": 4,
 "nbformat_minor": 5
}
